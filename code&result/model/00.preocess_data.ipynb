{
 "cells": [
  {
   "cell_type": "code",
   "execution_count": null,
   "metadata": {},
   "outputs": [],
   "source": [
    "import pandas as pd\n",
    "import numpy as np"
   ]
  },
  {
   "cell_type": "code",
   "execution_count": null,
   "metadata": {},
   "outputs": [],
   "source": [
    "df1 = pd.read_csv(\"../data-2/Matrix.57.txt\",sep='\\t',index_col=0)\n",
    "df1 = df1.rename(columns=lambda x: x.replace('-', '.'))\n",
    "df1['ID'] = df1.index\n",
    "df1.columns,len(df1.columns)\n",
    "\n",
    "df2 = pd.read_csv(\"../data-2/Matrix.230822.txt\",sep='\\t')\n",
    "df2 = df2.loc[:, ['ID','20.1', '20.3']]\n",
    "df2.rename(columns={'20.1': 'BC5.1', '20.3': 'BC5.3'}, inplace=True)\n",
    "\n",
    "\n",
    "merged_df = pd.merge(df2, df1, on='ID', how='outer').fillna(0)\n",
    "merged_df = merged_df[(merged_df != 0).any(axis=1)]\n",
    "merged_df.columns,len(merged_df.columns)\n",
    "\n",
    "merged_df.to_csv('../data-2/total4.15.txt',sep='\\t')\n",
    "\n",
    "a = pd.DataFrame(merged_df.columns.tolist())\n",
    "a.to_csv('../data-2/total4.15_samples.txt',sep='\\t')"
   ]
  },
  {
   "cell_type": "code",
   "execution_count": null,
   "metadata": {},
   "outputs": [],
   "source": [
    "\n",
    "df1 = pd.read_csv(\"../data-2/01.batch1.txt\",sep='\\t',index_col=0)\n",
    "df1 = df1.rename(columns=lambda x: x.replace('-', '.'))\n",
    "df1.columns,len(df1.columns)\n",
    "\n",
    "df2 = pd.read_csv(\"../data-2/Matrix.240415.txt\",sep='\\t')\n",
    "df2 = df2.rename(columns=lambda x: x.replace('_', '.'))\n",
    "df2.columns,len(df2.columns)\n",
    "df2.to_csv('../data-2/02.batch2.txt',sep='\\t')\n",
    "\n",
    "merged_df = pd.merge(df1, df2, on='ID', how='outer').fillna(0)\n",
    "merged_df = merged_df[(merged_df != 0).any(axis=1)]\n",
    "merged_df = merged_df.loc[:, (merged_df != 0).any(axis=0)]\n",
    "\n",
    "\n",
    "merged_df.columns,len(merged_df.columns)\n",
    "\n",
    "merged_df.to_csv('../data-2/total4.15.txt',sep='\\t')"
   ]
  }
 ],
 "metadata": {
  "language_info": {
   "name": "python"
  }
 },
 "nbformat": 4,
 "nbformat_minor": 2
}
